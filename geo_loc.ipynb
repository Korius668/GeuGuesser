{
 "cells": [
  {
   "cell_type": "code",
   "execution_count": 4,
   "id": "4c64c26b",
   "metadata": {},
   "outputs": [
    {
     "name": "stdout",
     "output_type": "stream",
     "text": [
      "Extracting frames...\n",
      "Computing embeddings...\n",
      "Computed embeddings for 9 frames\n"
     ]
    }
   ],
   "source": [
    "import os\n",
    "import cv2\n",
    "import torch\n",
    "from PIL import Image\n",
    "import numpy as np\n",
    "from torchvision import transforms\n",
    "from transformers import CLIPProcessor, CLIPModel\n",
    "\n",
    "# ---- Config ----\n",
    "VIDEO_PATH = \"vid1.mov\"\n",
    "FRAME_SAVE_PATH = \"frames/\"\n",
    "FRAME_INTERVAL = 60  # every N frames\n",
    "MODEL_NAME = \"openai/clip-vit-base-patch32\"\n",
    "\n",
    "# ---- Create frame directory ----\n",
    "os.makedirs(FRAME_SAVE_PATH, exist_ok=True)\n",
    "\n",
    "# ---- Load CLIP model ----\n",
    "device = \"cuda\" if torch.cuda.is_available() else \"cpu\"\n",
    "model = CLIPModel.from_pretrained(MODEL_NAME).to(device)\n",
    "processor = CLIPProcessor.from_pretrained(MODEL_NAME)\n",
    "\n",
    "# ---- Step 1: Extract Frames ----\n",
    "def extract_frames(video_path, interval, output_dir):\n",
    "    cap = cv2.VideoCapture(video_path)\n",
    "    frame_count = 0\n",
    "    saved_count = 0\n",
    "    \n",
    "    while True:\n",
    "        ret, frame = cap.read()\n",
    "        if not ret:\n",
    "            break\n",
    "\n",
    "        if frame_count % interval == 0:\n",
    "            frame_rgb = cv2.cvtColor(frame, cv2.COLOR_BGR2RGB)\n",
    "            image_pil = Image.fromarray(frame_rgb)\n",
    "            image_path = os.path.join(output_dir, f\"frame_{saved_count:04d}.png\")\n",
    "            image_pil.save(image_path)\n",
    "            saved_count += 1\n",
    "\n",
    "        frame_count += 1\n",
    "    cap.release()\n",
    "\n",
    "# ---- Step 2: Get CLIP Embeddings ----\n",
    "def get_clip_embedding(image_path):\n",
    "    image = Image.open(image_path).convert(\"RGB\")\n",
    "    inputs = processor(images=image, return_tensors=\"pt\").to(device)\n",
    "    with torch.no_grad():\n",
    "        embedding = model.get_image_features(**inputs)\n",
    "    return embedding.squeeze().cpu().numpy()\n",
    "\n",
    "# ---- Run Pipeline ----\n",
    "print(\"Extracting frames...\")\n",
    "extract_frames(VIDEO_PATH, FRAME_INTERVAL, FRAME_SAVE_PATH)\n",
    "\n",
    "print(\"Computing embeddings...\")\n",
    "embeddings = []\n",
    "image_files = sorted([f for f in os.listdir(FRAME_SAVE_PATH) if f.endswith(\".png\")])\n",
    "\n",
    "for filename in image_files:\n",
    "    path = os.path.join(FRAME_SAVE_PATH, filename)\n",
    "    emb = get_clip_embedding(path)\n",
    "    embeddings.append((filename, emb))\n",
    "\n",
    "print(f\"Computed embeddings for {len(embeddings)} frames\")\n",
    "\n",
    "# # Optional: Save embeddings to file\n",
    "# np.save(\"clip_embeddings.npy\", embeddings)\n",
    "# print(\"Saved embeddings to clip_embeddings.npy\")\n"
   ]
  },
  {
   "cell_type": "code",
   "execution_count": 8,
   "id": "7c334105",
   "metadata": {},
   "outputs": [
    {
     "name": "stdout",
     "output_type": "stream",
     "text": [
      "Extracting frames...\n",
      "Computing embeddings for video frames...\n",
      "Saved embeddings to clip_embeddings.npy\n",
      "Building FAISS index from reference images...\n"
     ]
    },
    {
     "ename": "ValueError",
     "evalue": "need at least one array to concatenate",
     "output_type": "error",
     "traceback": [
      "\u001b[31m---------------------------------------------------------------------------\u001b[39m",
      "\u001b[31mValueError\u001b[39m                                Traceback (most recent call last)",
      "\u001b[36mCell\u001b[39m\u001b[36m \u001b[39m\u001b[32mIn[8]\u001b[39m\u001b[32m, line 107\u001b[39m\n\u001b[32m    104\u001b[39m \u001b[38;5;28mprint\u001b[39m(\u001b[33mf\u001b[39m\u001b[33m\"\u001b[39m\u001b[33mSaved embeddings to \u001b[39m\u001b[38;5;132;01m{\u001b[39;00mEMBEDDING_SAVE_PATH\u001b[38;5;132;01m}\u001b[39;00m\u001b[33m\"\u001b[39m)\n\u001b[32m    106\u001b[39m \u001b[38;5;28mprint\u001b[39m(\u001b[33m\"\u001b[39m\u001b[33mBuilding FAISS index from reference images...\u001b[39m\u001b[33m\"\u001b[39m)\n\u001b[32m--> \u001b[39m\u001b[32m107\u001b[39m index, ref_filenames = \u001b[43mbuild_faiss_index\u001b[49m\u001b[43m(\u001b[49m\u001b[43mREFERENCE_DATA_PATH\u001b[49m\u001b[43m)\u001b[49m\n\u001b[32m    109\u001b[39m \u001b[38;5;28mprint\u001b[39m(\u001b[33m\"\u001b[39m\u001b[33mQuerying index with video frame embeddings...\u001b[39m\u001b[33m\"\u001b[39m)\n\u001b[32m    110\u001b[39m results = query_index(index, final_embeddings_np, ref_filenames)\n",
      "\u001b[36mCell\u001b[39m\u001b[36m \u001b[39m\u001b[32mIn[8]\u001b[39m\u001b[32m, line 69\u001b[39m, in \u001b[36mbuild_faiss_index\u001b[39m\u001b[34m(reference_dir)\u001b[39m\n\u001b[32m     66\u001b[39m         reference_embeddings.append(emb)\n\u001b[32m     67\u001b[39m         filenames.append(file)\n\u001b[32m---> \u001b[39m\u001b[32m69\u001b[39m reference_embeddings = \u001b[43mnp\u001b[49m\u001b[43m.\u001b[49m\u001b[43mvstack\u001b[49m\u001b[43m(\u001b[49m\u001b[43mreference_embeddings\u001b[49m\u001b[43m)\u001b[49m.astype(\u001b[33m\"\u001b[39m\u001b[33mfloat32\u001b[39m\u001b[33m\"\u001b[39m)\n\u001b[32m     70\u001b[39m index = faiss.IndexFlatL2(reference_embeddings.shape[\u001b[32m1\u001b[39m])\n\u001b[32m     71\u001b[39m index.add(reference_embeddings)\n",
      "\u001b[36mFile \u001b[39m\u001b[32m~/Documents/PythonProjects/GeuGuesser/.venv/lib/python3.13/site-packages/numpy/_core/shape_base.py:292\u001b[39m, in \u001b[36mvstack\u001b[39m\u001b[34m(tup, dtype, casting)\u001b[39m\n\u001b[32m    290\u001b[39m \u001b[38;5;28;01mif\u001b[39;00m \u001b[38;5;129;01mnot\u001b[39;00m \u001b[38;5;28misinstance\u001b[39m(arrs, \u001b[38;5;28mtuple\u001b[39m):\n\u001b[32m    291\u001b[39m     arrs = (arrs,)\n\u001b[32m--> \u001b[39m\u001b[32m292\u001b[39m \u001b[38;5;28;01mreturn\u001b[39;00m \u001b[43m_nx\u001b[49m\u001b[43m.\u001b[49m\u001b[43mconcatenate\u001b[49m\u001b[43m(\u001b[49m\u001b[43marrs\u001b[49m\u001b[43m,\u001b[49m\u001b[43m \u001b[49m\u001b[32;43m0\u001b[39;49m\u001b[43m,\u001b[49m\u001b[43m \u001b[49m\u001b[43mdtype\u001b[49m\u001b[43m=\u001b[49m\u001b[43mdtype\u001b[49m\u001b[43m,\u001b[49m\u001b[43m \u001b[49m\u001b[43mcasting\u001b[49m\u001b[43m=\u001b[49m\u001b[43mcasting\u001b[49m\u001b[43m)\u001b[49m\n",
      "\u001b[31mValueError\u001b[39m: need at least one array to concatenate"
     ]
    }
   ],
   "source": [
    "import os\n",
    "import cv2\n",
    "import torch\n",
    "from PIL import Image\n",
    "import numpy as np\n",
    "from torchvision import transforms\n",
    "from transformers import CLIPProcessor, CLIPModel\n",
    "import faiss\n",
    "\n",
    "# ---- Config ----\n",
    "VIDEO_PATH = \"sample_outdoor_video.mp4\"\n",
    "FRAME_SAVE_PATH = \"frames/\"\n",
    "REFERENCE_DATA_PATH = \"reference_images/\"\n",
    "EMBEDDING_SAVE_PATH = \"clip_embeddings.npy\"\n",
    "INDEX_SAVE_PATH = \"faiss_index.bin\"\n",
    "FRAME_INTERVAL = 60  # every N frames\n",
    "MODEL_NAME = \"openai/clip-vit-base-patch32\"\n",
    "\n",
    "# ---- Create directories ----\n",
    "os.makedirs(FRAME_SAVE_PATH, exist_ok=True)\n",
    "os.makedirs(REFERENCE_DATA_PATH, exist_ok=True)\n",
    "\n",
    "# ---- Load CLIP model ----\n",
    "device = \"cuda\" if torch.cuda.is_available() else \"cpu\"\n",
    "model = CLIPModel.from_pretrained(MODEL_NAME).to(device)\n",
    "processor = CLIPProcessor.from_pretrained(MODEL_NAME)\n",
    "\n",
    "# ---- Step 1: Extract Frames ----\n",
    "def extract_frames(video_path, interval, output_dir):\n",
    "    cap = cv2.VideoCapture(video_path)\n",
    "    frame_count = 0\n",
    "    saved_count = 0\n",
    "    \n",
    "    while True:\n",
    "        ret, frame = cap.read()\n",
    "        if not ret:\n",
    "            break\n",
    "\n",
    "        if frame_count % interval == 0:\n",
    "            frame_rgb = cv2.cvtColor(frame, cv2.COLOR_BGR2RGB)\n",
    "            image_pil = Image.fromarray(frame_rgb)\n",
    "            image_path = os.path.join(output_dir, f\"frame_{saved_count:04d}.png\")\n",
    "            image_pil.save(image_path)\n",
    "            saved_count += 1\n",
    "\n",
    "        frame_count += 1\n",
    "    cap.release()\n",
    "\n",
    "# ---- Step 2: Get CLIP Embeddings ----\n",
    "def get_clip_embedding(image_path):\n",
    "    image = Image.open(image_path).convert(\"RGB\")\n",
    "    inputs = processor(images=image, return_tensors=\"pt\").to(device)\n",
    "    with torch.no_grad():\n",
    "        embedding = model.get_image_features(**inputs)\n",
    "    return embedding.squeeze().cpu().numpy()\n",
    "\n",
    "\n",
    "# ---- Step 3: Build FAISS Index from Reference Images ----\n",
    "def build_faiss_index(reference_dir):\n",
    "    reference_embeddings = []\n",
    "    filenames = []\n",
    "    for file in sorted(os.listdir(reference_dir)):\n",
    "        if file.endswith(\".png\") or file.endswith(\".jpg\"):\n",
    "            filepath = os.path.join(reference_dir, file)\n",
    "            emb = get_clip_embedding(filepath)\n",
    "            reference_embeddings.append(emb)\n",
    "            filenames.append(file)\n",
    "\n",
    "    reference_embeddings = np.vstack(reference_embeddings).astype(\"float32\")\n",
    "    index = faiss.IndexFlatL2(reference_embeddings.shape[1])\n",
    "    index.add(reference_embeddings)\n",
    "    faiss.write_index(index, INDEX_SAVE_PATH)\n",
    "    np.save(\"reference_filenames.npy\", filenames)\n",
    "    print(\"FAISS index built and saved.\")\n",
    "    return index, filenames\n",
    "\n",
    "# ---- Step 4: Query Index with Video Frame Embeddings ----\n",
    "def query_index(index, query_embeddings, filenames, k=3):\n",
    "    results = []\n",
    "    for frame_name, emb in query_embeddings:\n",
    "        emb = emb.astype(\"float32\").reshape(1, -1)\n",
    "        D, I = index.search(emb, k)\n",
    "        matched = [(filenames[i], float(D[0][j])) for j, i in enumerate(I[0])]\n",
    "        results.append((frame_name, matched))\n",
    "    return results\n",
    "\n",
    "# ---- Run Pipeline ----\n",
    "print(\"Extracting frames...\")\n",
    "extract_frames(VIDEO_PATH, FRAME_INTERVAL, FRAME_SAVE_PATH)\n",
    "\n",
    "print(\"Computing embeddings for video frames...\")\n",
    "embeddings = []\n",
    "image_files = sorted([f for f in os.listdir(FRAME_SAVE_PATH) if f.endswith(\".png\")])\n",
    "\n",
    "\n",
    "for filename in image_files:\n",
    "    path = os.path.join(FRAME_SAVE_PATH, filename)\n",
    "    emb = get_clip_embedding(path)\n",
    "    embeddings.append(emb)\n",
    "\n",
    "final_embeddings_np = np.stack(embeddings)\n",
    "\n",
    "np.save(EMBEDDING_SAVE_PATH, final_embeddings_np)\n",
    "print(f\"Saved embeddings to {EMBEDDING_SAVE_PATH}\")\n",
    "\n",
    "print(\"Building FAISS index from reference images...\")\n",
    "index, ref_filenames = build_faiss_index(REFERENCE_DATA_PATH)\n",
    "\n",
    "print(\"Querying index with video frame embeddings...\")\n",
    "results = query_index(index, final_embeddings_np, ref_filenames)\n",
    "\n",
    "for frame, matches in results:\n",
    "    print(f\"\\nFrame: {frame}\")\n",
    "    for fname, dist in matches:\n",
    "        print(f\"  Match: {fname} | Distance: {dist:.2f}\")\n"
   ]
  },
  {
   "cell_type": "code",
   "execution_count": 1,
   "id": "f54b4664",
   "metadata": {},
   "outputs": [
    {
     "name": "stdout",
     "output_type": "stream",
     "text": [
      "Extracting frames...\n"
     ]
    }
   ],
   "source": [
    "import os\n",
    "import cv2\n",
    "import json\n",
    "import numpy as np\n",
    "\n",
    "from modules.driving_side import analyze_driving_side\n",
    "\n",
    "# Config\n",
    "VIDEO_PATH = \"vid1.mov\"\n",
    "FRAME_SAVE_PATH = \"frames/\"\n",
    "FRAME_INTERVAL = 30\n",
    "\n",
    "# Prepare frame directory\n",
    "os.makedirs(FRAME_SAVE_PATH, exist_ok=True)\n",
    "\n",
    "# Step 1: Extract Frames\n",
    "\n",
    "def extract_frames(video_path, interval, output_dir):\n",
    "    cap = cv2.VideoCapture(video_path)\n",
    "    frame_count = 0\n",
    "    saved_count = 0\n",
    "\n",
    "    while True:\n",
    "        ret, frame = cap.read()\n",
    "        if not ret:\n",
    "            break\n",
    "\n",
    "        if frame_count % interval == 0:\n",
    "            path = os.path.join(output_dir, f\"frame_{saved_count:04d}.png\")\n",
    "            cv2.imwrite(path, frame)\n",
    "            saved_count += 1\n",
    "\n",
    "        frame_count += 1\n",
    "    cap.release()\n",
    "\n",
    "print(\"Extracting frames...\")\n",
    "extract_frames(VIDEO_PATH, FRAME_INTERVAL, FRAME_SAVE_PATH)"
   ]
  },
  {
   "cell_type": "code",
   "execution_count": 1,
   "id": "502824e7",
   "metadata": {},
   "outputs": [
    {
     "name": "stderr",
     "output_type": "stream",
     "text": [
      "Neither CUDA nor MPS are available - defaulting to CPU. Note: This module is much faster with a GPU.\n"
     ]
    },
    {
     "name": "stdout",
     "output_type": "stream",
     "text": [
      "Running language OCR module...\n"
     ]
    },
    {
     "name": "stderr",
     "output_type": "stream",
     "text": [
      "Neither CUDA nor MPS are available - defaulting to CPU. Note: This module is much faster with a GPU.\n"
     ]
    },
    {
     "name": "stdout",
     "output_type": "stream",
     "text": [
      "EasyOCR reader for Traditional Chinese initialized with GPU.\n"
     ]
    },
    {
     "name": "stderr",
     "output_type": "stream",
     "text": [
      "Neither CUDA nor MPS are available - defaulting to CPU. Note: This module is much faster with a GPU.\n"
     ]
    },
    {
     "name": "stdout",
     "output_type": "stream",
     "text": [
      "EasyOCR reader for Simplified Chinese initialized with GPU.\n"
     ]
    },
    {
     "name": "stderr",
     "output_type": "stream",
     "text": [
      "Neither CUDA nor MPS are available - defaulting to CPU. Note: This module is much faster with a GPU.\n"
     ]
    },
    {
     "name": "stdout",
     "output_type": "stream",
     "text": [
      "EasyOCR reader for Japanese initialized with GPU.\n"
     ]
    },
    {
     "name": "stderr",
     "output_type": "stream",
     "text": [
      "Neither CUDA nor MPS are available - defaulting to CPU. Note: This module is much faster with a GPU.\n"
     ]
    },
    {
     "name": "stdout",
     "output_type": "stream",
     "text": [
      "EasyOCR reader for Korean initialized with GPU.\n"
     ]
    },
    {
     "name": "stderr",
     "output_type": "stream",
     "text": [
      "Neither CUDA nor MPS are available - defaulting to CPU. Note: This module is much faster with a GPU.\n"
     ]
    },
    {
     "name": "stdout",
     "output_type": "stream",
     "text": [
      "EasyOCR reader for Russian initialized with GPU.\n"
     ]
    },
    {
     "name": "stderr",
     "output_type": "stream",
     "text": [
      "Neither CUDA nor MPS are available - defaulting to CPU. Note: This module is much faster with a GPU.\n"
     ]
    },
    {
     "name": "stdout",
     "output_type": "stream",
     "text": [
      "EasyOCR reader for Arabic initialized with GPU.\n"
     ]
    },
    {
     "name": "stderr",
     "output_type": "stream",
     "text": [
      "Downloading recognition model, please wait. This may take several minutes depending upon your network connection.\n"
     ]
    },
    {
     "name": "stdout",
     "output_type": "stream",
     "text": [
      "Progress: |██████████████████████████████████████████████████| 100.0% CompleteEasyOCR reader for fr, de, en initialized with GPU.\n",
      "\n",
      "Processing file: frames/frame_0000.png\n",
      "  No text detected in frame_0000.png by any reader.\n",
      "\n",
      "Processing file: frames/frame_0001.png\n",
      "  No text detected in frame_0001.png by any reader.\n",
      "\n",
      "Processing file: frames/frame_0002.png\n",
      "  No text detected in frame_0002.png by any reader.\n",
      "\n",
      "Processing file: frames/frame_0003.png\n",
      "  No text detected in frame_0003.png by any reader.\n",
      "\n",
      "Processing file: frames/frame_0004.png\n",
      "  No text detected in frame_0004.png by any reader.\n",
      "\n",
      "Processing file: frames/frame_0005.png\n"
     ]
    },
    {
     "name": "stderr",
     "output_type": "stream",
     "text": [
      "/home/korius/Documents/PythonProjects/GeuGuesser/.venv/lib/python3.13/site-packages/torch/utils/data/dataloader.py:665: UserWarning: 'pin_memory' argument is set as true but no accelerator is found, then device pinned memory won't be used.\n",
      "  warnings.warn(warn_msg)\n",
      "[W524 15:44:15.048569221 NNPACK.cpp:57] Could not initialize NNPACK! Reason: Unsupported hardware.\n"
     ]
    },
    {
     "ename": "",
     "evalue": "",
     "output_type": "error",
     "traceback": [
      "\u001b[1;31mCannot execute code, session has been disposed. Please try restarting the Kernel."
     ]
    },
    {
     "ename": "",
     "evalue": "",
     "output_type": "error",
     "traceback": [
      "\u001b[1;31mThe Kernel crashed while executing code in the the current cell or a previous cell. Please review the code in the cell(s) to identify a possible cause of the failure. Click <a href='https://aka.ms/vscodeJupyterKernelCrash'>here</a> for more info. View Jupyter <a href='command:jupyter.viewOutput'>log</a> for further details."
     ]
    }
   ],
   "source": [
    "%load_ext autoreload\n",
    "%autoreload 2 \n",
    "from modules.language_ocr import detect_languages\n",
    "\n",
    "FRAME_SAVE_PATH = \"frames/\"\n",
    "# Step 2: Run All Modules\n",
    "print(\"Running language OCR module...\")\n",
    "language_results = detect_languages(FRAME_SAVE_PATH)"
   ]
  },
  {
   "cell_type": "code",
   "execution_count": null,
   "id": "fdbb8442",
   "metadata": {},
   "outputs": [],
   "source": [
    "print(\"Running driving side analysis module...\")\n",
    "driving_result = analyze_driving_side(VIDEO_PATH)"
   ]
  },
  {
   "cell_type": "code",
   "execution_count": null,
   "id": "dd8fc683",
   "metadata": {},
   "outputs": [],
   "source": [
    "# Step 3: Inference Logic\n",
    "results = {\n",
    "    \"language\": language_results,\n",
    "    \"driving_side\": driving_result,\n",
    "    \"notes\": []\n",
    "}\n",
    "\n",
    "if \"Traditional Chinese\" in language_results:\n",
    "    results[\"notes\"].append(\"Detected Traditional Chinese → Possibly Hong Kong or Taiwan\")\n",
    "\n",
    "if driving_result == \"right\":\n",
    "    results[\"notes\"].append(\"Right side driving → Eliminate UK, India, Japan\")\n",
    "\n",
    "# Print Results\n",
    "print(json.dumps(results, indent=2))"
   ]
  }
 ],
 "metadata": {
  "kernelspec": {
   "display_name": ".venv",
   "language": "python",
   "name": "python3"
  },
  "language_info": {
   "codemirror_mode": {
    "name": "ipython",
    "version": 3
   },
   "file_extension": ".py",
   "mimetype": "text/x-python",
   "name": "python",
   "nbconvert_exporter": "python",
   "pygments_lexer": "ipython3",
   "version": "3.13.2"
  }
 },
 "nbformat": 4,
 "nbformat_minor": 5
}
